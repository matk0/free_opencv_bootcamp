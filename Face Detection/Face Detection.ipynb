{
 "cells": [
  {
   "cell_type": "code",
   "execution_count": 1,
   "metadata": {},
   "outputs": [
    {
     "name": "stderr",
     "output_type": "stream",
     "text": [
      "[ WARN:0@0.035] global /private/var/folders/k1/30mswbxs7r1g6zwn8y4fyt500000gp/T/abs_11nitadzeg/croot/opencv-suite_1691620374638/work/modules/videoio/src/cap_gstreamer.cpp (1127) open OpenCV | GStreamer warning: Error opening bin: syntax error\n",
      "[ WARN:0@0.035] global /private/var/folders/k1/30mswbxs7r1g6zwn8y4fyt500000gp/T/abs_11nitadzeg/croot/opencv-suite_1691620374638/work/modules/videoio/src/cap_gstreamer.cpp (862) isPipelinePlaying OpenCV | GStreamer warning: GStreamer: pipeline have not been created\n",
      "OpenCV: Couldn't read video stream from file \"--f=/Users/matejlukasik/Library/Jupyter/runtime/kernel-v2-65704FmLo4SLXxWbc.json\"\n"
     ]
    },
    {
     "ename": "AttributeError",
     "evalue": "module 'cv2' has no attribute 'dnn'",
     "output_type": "error",
     "traceback": [
      "\u001b[0;31m---------------------------------------------------------------------------\u001b[0m",
      "\u001b[0;31mAttributeError\u001b[0m                            Traceback (most recent call last)",
      "\u001b[1;32m/Users/matejlukasik/Projects/learning opencv/free_opencv_bootcamp/Face Detection/Face Detection.ipynb Cell 1\u001b[0m line \u001b[0;36m4\n\u001b[1;32m     <a href='vscode-notebook-cell:/Users/matejlukasik/Projects/learning%20opencv/free_opencv_bootcamp/Face%20Detection/Face%20Detection.ipynb#W0sZmlsZQ%3D%3D?line=42'>43</a>\u001b[0m win_name \u001b[39m=\u001b[39m \u001b[39m\"\u001b[39m\u001b[39mCamera Preview\u001b[39m\u001b[39m\"\u001b[39m\n\u001b[1;32m     <a href='vscode-notebook-cell:/Users/matejlukasik/Projects/learning%20opencv/free_opencv_bootcamp/Face%20Detection/Face%20Detection.ipynb#W0sZmlsZQ%3D%3D?line=43'>44</a>\u001b[0m cv2\u001b[39m.\u001b[39mnamedWindow(win_name, cv2\u001b[39m.\u001b[39mWINDOW_NORMAL)\n\u001b[0;32m---> <a href='vscode-notebook-cell:/Users/matejlukasik/Projects/learning%20opencv/free_opencv_bootcamp/Face%20Detection/Face%20Detection.ipynb#W0sZmlsZQ%3D%3D?line=45'>46</a>\u001b[0m net \u001b[39m=\u001b[39m cv2\u001b[39m.\u001b[39mdnn\u001b[39m.\u001b[39mreadNetFromCaffe(\u001b[39m\"\u001b[39m\u001b[39mdeploy.prototxt\u001b[39m\u001b[39m\"\u001b[39m, \u001b[39m\"\u001b[39m\u001b[39mres10_300x300_ssd_iter_140000_fp16.caffemodel\u001b[39m\u001b[39m\"\u001b[39m)\n\u001b[1;32m     <a href='vscode-notebook-cell:/Users/matejlukasik/Projects/learning%20opencv/free_opencv_bootcamp/Face%20Detection/Face%20Detection.ipynb#W0sZmlsZQ%3D%3D?line=46'>47</a>\u001b[0m \u001b[39m# Model parameters\u001b[39;00m\n\u001b[1;32m     <a href='vscode-notebook-cell:/Users/matejlukasik/Projects/learning%20opencv/free_opencv_bootcamp/Face%20Detection/Face%20Detection.ipynb#W0sZmlsZQ%3D%3D?line=47'>48</a>\u001b[0m in_width \u001b[39m=\u001b[39m \u001b[39m300\u001b[39m\n",
      "\u001b[0;31mAttributeError\u001b[0m: module 'cv2' has no attribute 'dnn'"
     ]
    },
    {
     "ename": "",
     "evalue": "",
     "output_type": "error",
     "traceback": [
      "\u001b[1;31mThe Kernel crashed while executing code in the the current cell or a previous cell. Please review the code in the cell(s) to identify a possible cause of the failure. Click <a href='https://aka.ms/vscodeJupyterKernelCrash'>here</a> for more info. View Jupyter <a href='command:jupyter.viewOutput'>log</a> for further details."
     ]
    }
   ],
   "source": [
    "import os\n",
    "import cv2\n",
    "import sys\n",
    "import zipfile_deflate64 as zipfile\n",
    "from urllib.request import urlretrieve\n",
    "\n",
    "\n",
    "# ========================-Downloading Assets-========================\n",
    "def download_and_unzip(url, save_path):\n",
    "    print(f\"Downloading and extracting assests....\", end=\"\")\n",
    "\n",
    "    # Downloading zip file using urllib package.\n",
    "    urlretrieve(url, save_path)\n",
    "\n",
    "    try:\n",
    "        # Extracting zip file using the zipfile package.\n",
    "        with zipfile.ZipFile(save_path) as z:\n",
    "            # Extract ZIP file contents in the same directory.\n",
    "            z.extractall(os.path.split(save_path)[0])\n",
    "\n",
    "        print(\"Done\")\n",
    "\n",
    "    except Exception as e:\n",
    "        print(\"\\nInvalid file.\", e)\n",
    "\n",
    "\n",
    "URL = r\"https://www.dropbox.com/s/efitgt363ada95a/opencv_bootcamp_assets_12.zip?dl=1\"\n",
    "\n",
    "asset_zip_path = os.path.join(os.getcwd(), f\"opencv_bootcamp_assets_12.zip\")\n",
    "\n",
    "# Download if assest ZIP does not exists.\n",
    "if not os.path.exists(asset_zip_path):\n",
    "    download_and_unzip(URL, asset_zip_path)\n",
    "# ====================================================================\n",
    "\n",
    "\n",
    "s = 0\n",
    "if len(sys.argv) > 1:\n",
    "    s = sys.argv[1]\n",
    "\n",
    "source = cv2.VideoCapture(s)\n",
    "\n",
    "win_name = \"Camera Preview\"\n",
    "cv2.namedWindow(win_name, cv2.WINDOW_NORMAL)\n",
    "\n",
    "net = cv2.dnn.readNetFromCaffe(\"deploy.prototxt\", \"res10_300x300_ssd_iter_140000_fp16.caffemodel\")\n",
    "# Model parameters\n",
    "in_width = 300\n",
    "in_height = 300\n",
    "mean = [104, 117, 123]\n",
    "conf_threshold = 0.7\n",
    "\n",
    "while cv2.waitKey(1) != 27:\n",
    "    has_frame, frame = source.read()\n",
    "    if not has_frame:\n",
    "        break\n",
    "    frame = cv2.flip(frame, 1)\n",
    "    frame_height = frame.shape[0]\n",
    "    frame_width = frame.shape[1]\n",
    "\n",
    "    # Create a 4D blob from a frame.\n",
    "    blob = cv2.dnn.blobFromImage(frame, 1.0, (in_width, in_height), mean, swapRB=False, crop=False)\n",
    "    # Run a model\n",
    "    net.setInput(blob)\n",
    "    detections = net.forward()\n",
    "\n",
    "    for i in range(detections.shape[2]):\n",
    "        confidence = detections[0, 0, i, 2]\n",
    "        if confidence > conf_threshold:\n",
    "            x_left_bottom = int(detections[0, 0, i, 3] * frame_width)\n",
    "            y_left_bottom = int(detections[0, 0, i, 4] * frame_height)\n",
    "            x_right_top = int(detections[0, 0, i, 5] * frame_width)\n",
    "            y_right_top = int(detections[0, 0, i, 6] * frame_height)\n",
    "\n",
    "            cv2.rectangle(frame, (x_left_bottom, y_left_bottom), (x_right_top, y_right_top), (0, 255, 0))\n",
    "            label = \"Confidence: %.4f\" % confidence\n",
    "            label_size, base_line = cv2.getTextSize(label, cv2.FONT_HERSHEY_SIMPLEX, 0.5, 1)\n",
    "\n",
    "            cv2.rectangle(\n",
    "                frame,\n",
    "                (x_left_bottom, y_left_bottom - label_size[1]),\n",
    "                (x_left_bottom + label_size[0], y_left_bottom + base_line),\n",
    "                (255, 255, 255),\n",
    "                cv2.FILLED,\n",
    "            )\n",
    "            cv2.putText(frame, label, (x_left_bottom, y_left_bottom), cv2.FONT_HERSHEY_SIMPLEX, 0.5, (0, 0, 0))\n",
    "\n",
    "    t, _ = net.getPerfProfile()\n",
    "    label = \"Inference time: %.2f ms\" % (t * 1000.0 / cv2.getTickFrequency())\n",
    "    cv2.putText(frame, label, (0, 15), cv2.FONT_HERSHEY_SIMPLEX, 0.5, (0, 255, 0))\n",
    "    cv2.imshow(win_name, frame)\n",
    "\n",
    "source.release()\n",
    "cv2.destroyWindow(win_name)"
   ]
  }
 ],
 "metadata": {
  "kernelspec": {
   "display_name": "openCV",
   "language": "python",
   "name": "python3"
  },
  "language_info": {
   "codemirror_mode": {
    "name": "ipython",
    "version": 3
   },
   "file_extension": ".py",
   "mimetype": "text/x-python",
   "name": "python",
   "nbconvert_exporter": "python",
   "pygments_lexer": "ipython3",
   "version": "3.11.5"
  }
 },
 "nbformat": 4,
 "nbformat_minor": 2
}
